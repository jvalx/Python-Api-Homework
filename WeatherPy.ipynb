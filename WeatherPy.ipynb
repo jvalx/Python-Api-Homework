{
 "cells": [
  {
   "cell_type": "markdown",
   "metadata": {},
   "source": [
    "# WeatherPy\n",
    "----\n",
    "\n",
    "#### Note\n",
    "* Instructions have been included for each segment. You do not have to follow them exactly, but they are included to help you think through the steps."
   ]
  },
  {
   "cell_type": "code",
   "execution_count": 21,
   "metadata": {},
   "outputs": [
    {
     "name": "stdout",
     "output_type": "stream",
     "text": [
      "Requirement already satisfied: citipy in /Users/juanvalderrama/opt/anaconda3/lib/python3.8/site-packages (0.0.5)\r\n",
      "Requirement already satisfied: kdtree>=0.12 in /Users/juanvalderrama/opt/anaconda3/lib/python3.8/site-packages (from citipy) (0.16)\r\n"
     ]
    }
   ],
   "source": [
    "!pip install citipy"
   ]
  },
  {
   "cell_type": "code",
   "execution_count": 50,
   "metadata": {
    "scrolled": true
   },
   "outputs": [],
   "source": [
    "# Dependencies and Setup\n",
    "import matplotlib.pyplot as plt\n",
    "import pandas as pd\n",
    "import numpy as np\n",
    "import requests\n",
    "import time\n",
    "from scipy.stats import linregress\n",
    "from sklearn import datasets\n",
    "from datetime import date\n",
    "\n",
    "# Import API key\n",
    "from api_keys import weather_api_key\n",
    "\n",
    "# Incorporated citipy to determine city based on latitude and longitude\n",
    "from citipy import citipy\n",
    "\n",
    "# Output File (CSV)\n",
    "output_data_file = \"/Users/juanvalderrama/Desktop/usc-virt-data-pt-03-2021-u-c/06-Python-APIs/Homework/output_data/cities.csv\"\n",
    "\n",
    "# Range of latitudes and longitudes\n",
    "lat_range = (-90, 90)\n",
    "lng_range = (-180, 180)"
   ]
  },
  {
   "cell_type": "markdown",
   "metadata": {},
   "source": [
    "## Generate Cities List"
   ]
  },
  {
   "cell_type": "code",
   "execution_count": 3,
   "metadata": {},
   "outputs": [
    {
     "data": {
      "text/plain": [
       "644"
      ]
     },
     "execution_count": 3,
     "metadata": {},
     "output_type": "execute_result"
    }
   ],
   "source": [
    "# List for holding lat_lngs and cities\n",
    "lat_lngs = []\n",
    "cities = []\n",
    "\n",
    "# Create a set of random lat and lng combinations\n",
    "lats = np.random.uniform(lat_range[0], lat_range[1], size=1500)\n",
    "lngs = np.random.uniform(lng_range[0], lng_range[1], size=1500)\n",
    "lat_lngs = zip(lats, lngs)\n",
    "\n",
    "# Identify nearest city for each lat, lng combination\n",
    "for lat_lng in lat_lngs:\n",
    "    city = citipy.nearest_city(lat_lng[0], lat_lng[1]).city_name\n",
    "    \n",
    "    # If the city is unique, then add it to a our cities list\n",
    "    if city not in cities:\n",
    "        cities.append(city)\n",
    "\n",
    "# Print the city count to confirm sufficient count\n",
    "len(cities)"
   ]
  },
  {
   "cell_type": "markdown",
   "metadata": {},
   "source": [
    "### Perform API Calls\n",
    "* Perform a weather check on each city using a series of successive API calls.\n",
    "* Include a print log of each city as it'sbeing processed (with the city number and city name).\n"
   ]
  },
  {
   "cell_type": "code",
   "execution_count": 4,
   "metadata": {},
   "outputs": [],
   "source": [
    "new_cities = []\n",
    "lat = []\n",
    "lng = []\n",
    "max_temp = []\n",
    "humidity = []\n",
    "cloudiness = []\n",
    "wind_speed = []\n",
    "country = []\n",
    "date = []"
   ]
  },
  {
   "cell_type": "code",
   "execution_count": 5,
   "metadata": {},
   "outputs": [
    {
     "name": "stdout",
     "output_type": "stream",
     "text": [
      "Beginning Data Retrieval\n",
      "-----------------------------\n",
      "Processing Record 1 of Set 1 | wukari\n",
      "Processing Record 2 of Set 1 | ushuaia\n",
      "Processing Record 3 of Set 1 | dikson\n",
      "Processing Record 4 of Set 1 | port alfred\n",
      "Processing Record 5 of Set 1 | hobart\n",
      "Processing Record 6 of Set 1 | broome\n",
      "Processing Record 7 of Set 1 | rikitea\n",
      "Processing Record 8 of Set 1 | sumbe\n",
      "Processing Record 9 of Set 1 | bubaque\n",
      "Processing Record 10 of Set 1 | chernyshevskiy\n",
      "Processing Record 11 of Set 1 | karkaralinsk\n",
      "City not found. Skipping...\n",
      "Processing Record 12 of Set 1 | taolanaro\n",
      "City not found. Skipping...\n",
      "Processing Record 13 of Set 1 | faya\n",
      "Processing Record 14 of Set 1 | barentsburg\n",
      "City not found. Skipping...\n",
      "Processing Record 15 of Set 1 | nikolskoye\n",
      "Processing Record 16 of Set 1 | busselton\n",
      "Processing Record 17 of Set 1 | mataura\n",
      "Processing Record 18 of Set 1 | san quintin\n",
      "Processing Record 19 of Set 1 | rumboci\n",
      "Processing Record 20 of Set 1 | bengkulu\n",
      "Processing Record 21 of Set 1 | grand river south east\n",
      "City not found. Skipping...\n",
      "Processing Record 22 of Set 1 | henties bay\n",
      "Processing Record 23 of Set 1 | hay river\n",
      "Processing Record 24 of Set 1 | srisailam\n",
      "Processing Record 25 of Set 1 | castro\n",
      "Processing Record 26 of Set 1 | maragogi\n",
      "Processing Record 27 of Set 1 | victoria\n",
      "Processing Record 28 of Set 1 | yar-sale\n",
      "Processing Record 29 of Set 1 | jamestown\n",
      "Processing Record 30 of Set 1 | katsuura\n",
      "Processing Record 31 of Set 1 | qunduz\n",
      "Processing Record 32 of Set 1 | port said\n",
      "Processing Record 33 of Set 1 | nenjiang\n",
      "Processing Record 34 of Set 1 | east london\n",
      "Processing Record 35 of Set 1 | roma\n",
      "Processing Record 36 of Set 1 | akure\n",
      "Processing Record 37 of Set 1 | baruun-urt\n",
      "Processing Record 38 of Set 1 | bonavista\n",
      "Processing Record 39 of Set 1 | beira\n",
      "Processing Record 40 of Set 1 | hermanus\n",
      "Processing Record 41 of Set 1 | ambilobe\n",
      "Processing Record 42 of Set 1 | vaitupu\n",
      "City not found. Skipping...\n",
      "Processing Record 43 of Set 1 | bluff\n",
      "Processing Record 44 of Set 1 | kampene\n",
      "Processing Record 45 of Set 1 | georgetown\n",
      "Processing Record 46 of Set 1 | puerto ayacucho\n",
      "Processing Record 47 of Set 1 | kapaa\n",
      "Processing Record 48 of Set 1 | sorland\n",
      "Processing Record 49 of Set 1 | cape town\n",
      "Processing Record 50 of Set 1 | albany\n",
      "Processing Record 0 of Set 2 | avarua\n",
      "Processing Record 1 of Set 2 | kapoeta\n",
      "Processing Record 2 of Set 2 | gravelbourg\n",
      "Processing Record 3 of Set 2 | sao filipe\n",
      "Processing Record 4 of Set 2 | male\n",
      "Processing Record 5 of Set 2 | salvador\n",
      "Processing Record 6 of Set 2 | mareeba\n",
      "Processing Record 7 of Set 2 | pevek\n",
      "Processing Record 8 of Set 2 | mys shmidta\n",
      "City not found. Skipping...\n",
      "Processing Record 9 of Set 2 | gzhatsk\n",
      "City not found. Skipping...\n",
      "Processing Record 10 of Set 2 | illoqqortoormiut\n",
      "City not found. Skipping...\n",
      "Processing Record 11 of Set 2 | provideniya\n",
      "Processing Record 12 of Set 2 | bairiki\n",
      "Processing Record 13 of Set 2 | upernavik\n",
      "Processing Record 14 of Set 2 | luderitz\n",
      "Processing Record 15 of Set 2 | ahipara\n",
      "Processing Record 16 of Set 2 | leningradskiy\n",
      "Processing Record 17 of Set 2 | nguiu\n",
      "City not found. Skipping...\n",
      "Processing Record 18 of Set 2 | sault sainte marie\n",
      "Processing Record 19 of Set 2 | leninskoye\n",
      "Processing Record 20 of Set 2 | umm kaddadah\n",
      "Processing Record 21 of Set 2 | kavieng\n",
      "Processing Record 22 of Set 2 | manzil tamim\n",
      "City not found. Skipping...\n",
      "Processing Record 23 of Set 2 | lavrentiya\n",
      "Processing Record 24 of Set 2 | lapeer\n",
      "Processing Record 25 of Set 2 | lebu\n",
      "Processing Record 26 of Set 2 | fukue\n",
      "Processing Record 27 of Set 2 | nanortalik\n",
      "Processing Record 28 of Set 2 | say\n",
      "Processing Record 29 of Set 2 | sao joao da barra\n",
      "Processing Record 30 of Set 2 | mahon\n",
      "Processing Record 31 of Set 2 | mahebourg\n",
      "Processing Record 32 of Set 2 | thompson\n",
      "Processing Record 33 of Set 2 | bunia\n",
      "Processing Record 34 of Set 2 | sorvag\n",
      "City not found. Skipping...\n",
      "Processing Record 35 of Set 2 | linden\n",
      "Processing Record 36 of Set 2 | tezu\n",
      "Processing Record 37 of Set 2 | nome\n",
      "Processing Record 38 of Set 2 | yellowknife\n",
      "Processing Record 39 of Set 2 | baherden\n",
      "Processing Record 40 of Set 2 | khasan\n",
      "Processing Record 41 of Set 2 | mar del plata\n",
      "Processing Record 42 of Set 2 | gat\n",
      "Processing Record 43 of Set 2 | channel-port aux basques\n",
      "Processing Record 44 of Set 2 | barrow\n",
      "Processing Record 45 of Set 2 | carnarvon\n",
      "Processing Record 46 of Set 2 | severo-kurilsk\n",
      "Processing Record 47 of Set 2 | ranong\n",
      "Processing Record 48 of Set 2 | tuktoyaktuk\n",
      "Processing Record 49 of Set 2 | dingle\n",
      "Processing Record 50 of Set 2 | sola\n",
      "Processing Record 0 of Set 3 | new norfolk\n",
      "Processing Record 1 of Set 3 | do gonbadan\n",
      "Processing Record 2 of Set 3 | hualmay\n",
      "Processing Record 3 of Set 3 | athabasca\n",
      "Processing Record 4 of Set 3 | souillac\n",
      "Processing Record 5 of Set 3 | ewa beach\n",
      "Processing Record 6 of Set 3 | qaanaaq\n",
      "Processing Record 7 of Set 3 | camopi\n",
      "Processing Record 8 of Set 3 | can\n",
      "Processing Record 9 of Set 3 | san jose\n",
      "Processing Record 10 of Set 3 | oranjemund\n",
      "Processing Record 11 of Set 3 | monrovia\n",
      "Processing Record 12 of Set 3 | atuona\n",
      "Processing Record 13 of Set 3 | punta arenas\n",
      "Processing Record 14 of Set 3 | sur\n",
      "Processing Record 15 of Set 3 | lompoc\n",
      "Processing Record 16 of Set 3 | arraial do cabo\n",
      "Processing Record 17 of Set 3 | kaitangata\n",
      "Processing Record 18 of Set 3 | lakes entrance\n",
      "Processing Record 19 of Set 3 | gobabis\n",
      "Processing Record 20 of Set 3 | port hedland\n",
      "Processing Record 21 of Set 3 | vao\n",
      "Processing Record 22 of Set 3 | umm lajj\n",
      "Processing Record 23 of Set 3 | moline\n",
      "Processing Record 24 of Set 3 | cabo san lucas\n",
      "Processing Record 25 of Set 3 | shelburne\n",
      "Processing Record 26 of Set 3 | bethel\n",
      "Processing Record 27 of Set 3 | karakendzha\n",
      "City not found. Skipping...\n",
      "Processing Record 28 of Set 3 | livingston\n",
      "Processing Record 29 of Set 3 | hilo\n",
      "Processing Record 30 of Set 3 | shieli\n",
      "Processing Record 31 of Set 3 | yining\n",
      "Processing Record 32 of Set 3 | sioux lookout\n",
      "Processing Record 33 of Set 3 | tsihombe\n",
      "City not found. Skipping...\n",
      "Processing Record 34 of Set 3 | havre-saint-pierre\n",
      "Processing Record 35 of Set 3 | makokou\n",
      "Processing Record 36 of Set 3 | kerrville\n",
      "Processing Record 37 of Set 3 | laguna\n",
      "Processing Record 38 of Set 3 | anchorage\n",
      "Processing Record 39 of Set 3 | conceicao do araguaia\n",
      "Processing Record 40 of Set 3 | urucara\n",
      "Processing Record 41 of Set 3 | grindavik\n",
      "Processing Record 42 of Set 3 | praia da vitoria\n",
      "Processing Record 43 of Set 3 | thinadhoo\n",
      "Processing Record 44 of Set 3 | haines junction\n",
      "Processing Record 45 of Set 3 | vaini\n",
      "Processing Record 46 of Set 3 | phan thiet\n",
      "Processing Record 47 of Set 3 | vila do maio\n",
      "Processing Record 48 of Set 3 | saskylakh\n",
      "Processing Record 49 of Set 3 | eucaliptus\n",
      "Processing Record 50 of Set 3 | lagoa\n",
      "Processing Record 0 of Set 4 | tres lagoas\n",
      "Processing Record 1 of Set 4 | mecca\n",
      "Processing Record 2 of Set 4 | hofn\n",
      "Processing Record 3 of Set 4 | oltu\n",
      "Processing Record 4 of Set 4 | bredasdorp\n",
      "Processing Record 5 of Set 4 | longyearbyen\n",
      "Processing Record 6 of Set 4 | nogliki\n",
      "Processing Record 7 of Set 4 | hithadhoo\n",
      "Processing Record 8 of Set 4 | san patricio\n",
      "Processing Record 9 of Set 4 | dawei\n",
      "Processing Record 10 of Set 4 | tpig\n",
      "Processing Record 11 of Set 4 | vila velha\n",
      "Processing Record 12 of Set 4 | amapa\n",
      "Processing Record 13 of Set 4 | penukonda\n",
      "Processing Record 14 of Set 4 | faanui\n",
      "Processing Record 15 of Set 4 | winchester\n",
      "Processing Record 16 of Set 4 | kiruna\n",
      "Processing Record 17 of Set 4 | opuwo\n",
      "Processing Record 18 of Set 4 | tilichiki\n",
      "Processing Record 19 of Set 4 | tasiilaq\n",
      "Processing Record 20 of Set 4 | geraldton\n",
      "Processing Record 21 of Set 4 | sao joao do piaui\n",
      "Processing Record 22 of Set 4 | waipawa\n",
      "Processing Record 23 of Set 4 | merauke\n",
      "Processing Record 24 of Set 4 | louisbourg\n",
      "City not found. Skipping...\n",
      "Processing Record 25 of Set 4 | gao\n",
      "Processing Record 26 of Set 4 | chuy\n",
      "Processing Record 27 of Set 4 | debre tabor\n",
      "Processing Record 28 of Set 4 | sabha\n",
      "Processing Record 29 of Set 4 | vestmanna\n",
      "Processing Record 30 of Set 4 | west plains\n",
      "Processing Record 31 of Set 4 | lokosovo\n",
      "Processing Record 32 of Set 4 | ribeira grande\n",
      "Processing Record 33 of Set 4 | padang\n",
      "Processing Record 34 of Set 4 | iwanai\n",
      "Processing Record 35 of Set 4 | oistins\n"
     ]
    },
    {
     "name": "stdout",
     "output_type": "stream",
     "text": [
      "Processing Record 36 of Set 4 | aflu\n",
      "City not found. Skipping...\n",
      "Processing Record 37 of Set 4 | loandjili\n",
      "Processing Record 38 of Set 4 | flinders\n",
      "Processing Record 39 of Set 4 | port lincoln\n",
      "Processing Record 40 of Set 4 | waddan\n",
      "Processing Record 41 of Set 4 | oktyabrskoye\n",
      "Processing Record 42 of Set 4 | port macquarie\n",
      "Processing Record 43 of Set 4 | pochutla\n",
      "Processing Record 44 of Set 4 | tigil\n",
      "Processing Record 45 of Set 4 | talnakh\n",
      "Processing Record 46 of Set 4 | arroyos y esteros\n",
      "Processing Record 47 of Set 4 | cedar city\n",
      "Processing Record 48 of Set 4 | zrenjanin\n",
      "Processing Record 49 of Set 4 | butaritari\n",
      "Processing Record 50 of Set 4 | hays\n",
      "Processing Record 0 of Set 5 | asau\n",
      "Processing Record 1 of Set 5 | belushya guba\n",
      "City not found. Skipping...\n",
      "Processing Record 2 of Set 5 | dwarka\n",
      "Processing Record 3 of Set 5 | saint-augustin\n",
      "Processing Record 4 of Set 5 | chokurdakh\n",
      "Processing Record 5 of Set 5 | nantucket\n",
      "Processing Record 6 of Set 5 | saint-francois\n",
      "Processing Record 7 of Set 5 | husavik\n",
      "Processing Record 8 of Set 5 | dandong\n",
      "Processing Record 9 of Set 5 | airai\n",
      "Processing Record 10 of Set 5 | egvekinot\n",
      "Processing Record 11 of Set 5 | magadi\n",
      "Processing Record 12 of Set 5 | ancud\n",
      "Processing Record 13 of Set 5 | jackson\n",
      "Processing Record 14 of Set 5 | saint-philippe\n",
      "Processing Record 15 of Set 5 | karaul\n",
      "City not found. Skipping...\n",
      "Processing Record 16 of Set 5 | ous\n",
      "Processing Record 17 of Set 5 | kayan\n",
      "Processing Record 18 of Set 5 | numaligarh\n",
      "Processing Record 19 of Set 5 | tura\n",
      "Processing Record 20 of Set 5 | codrington\n",
      "Processing Record 21 of Set 5 | puerto madryn\n",
      "Processing Record 22 of Set 5 | beyneu\n",
      "Processing Record 23 of Set 5 | makueni\n",
      "Processing Record 24 of Set 5 | dunedin\n",
      "Processing Record 25 of Set 5 | saint-louis\n",
      "Processing Record 26 of Set 5 | palmer\n",
      "Processing Record 27 of Set 5 | cherskiy\n",
      "Processing Record 28 of Set 5 | ponta do sol\n",
      "Processing Record 29 of Set 5 | guane\n",
      "Processing Record 30 of Set 5 | sinnamary\n",
      "Processing Record 31 of Set 5 | west richland\n",
      "Processing Record 32 of Set 5 | salalah\n",
      "Processing Record 33 of Set 5 | mardan\n",
      "Processing Record 34 of Set 5 | charagua\n",
      "Processing Record 35 of Set 5 | sistranda\n",
      "Processing Record 36 of Set 5 | kadykchan\n",
      "City not found. Skipping...\n",
      "Processing Record 37 of Set 5 | weimar\n",
      "Processing Record 38 of Set 5 | yaan\n",
      "Processing Record 39 of Set 5 | mazamari\n",
      "Processing Record 40 of Set 5 | kawalu\n",
      "Processing Record 41 of Set 5 | khatanga\n",
      "Processing Record 42 of Set 5 | sibolga\n",
      "Processing Record 43 of Set 5 | muskogee\n",
      "Processing Record 44 of Set 5 | goderich\n",
      "Processing Record 45 of Set 5 | buala\n",
      "Processing Record 46 of Set 5 | boa esperanca\n",
      "Processing Record 47 of Set 5 | soeng sang\n",
      "Processing Record 48 of Set 5 | rio grande\n",
      "Processing Record 49 of Set 5 | saleaula\n",
      "City not found. Skipping...\n",
      "Processing Record 50 of Set 5 | normandin\n",
      "Processing Record 0 of Set 6 | puerto madero\n",
      "Processing Record 1 of Set 6 | amderma\n",
      "City not found. Skipping...\n",
      "Processing Record 2 of Set 6 | torbay\n",
      "Processing Record 3 of Set 6 | constitucion\n",
      "Processing Record 4 of Set 6 | turkan\n",
      "Processing Record 5 of Set 6 | khartoum\n",
      "Processing Record 6 of Set 6 | russkaya polyana\n",
      "Processing Record 7 of Set 6 | attawapiskat\n",
      "City not found. Skipping...\n",
      "Processing Record 8 of Set 6 | cleveland\n",
      "Processing Record 9 of Set 6 | nigran\n",
      "Processing Record 10 of Set 6 | ryotsu\n",
      "Processing Record 11 of Set 6 | shitanjing\n",
      "Processing Record 12 of Set 6 | atar\n",
      "Processing Record 13 of Set 6 | olafsvik\n",
      "Processing Record 14 of Set 6 | hami\n",
      "Processing Record 15 of Set 6 | paucartambo\n",
      "City not found. Skipping...\n",
      "Processing Record 16 of Set 6 | clyde river\n",
      "Processing Record 17 of Set 6 | waingapu\n",
      "Processing Record 18 of Set 6 | coihaique\n",
      "Processing Record 19 of Set 6 | aksha\n",
      "Processing Record 20 of Set 6 | nuuk\n",
      "Processing Record 21 of Set 6 | jinji\n",
      "Processing Record 22 of Set 6 | sarai naurang\n",
      "Processing Record 23 of Set 6 | raga\n",
      "Processing Record 24 of Set 6 | kyra\n",
      "Processing Record 25 of Set 6 | palabuhanratu\n",
      "City not found. Skipping...\n",
      "Processing Record 26 of Set 6 | puerto ayora\n",
      "Processing Record 27 of Set 6 | naze\n",
      "Processing Record 28 of Set 6 | port elizabeth\n",
      "Processing Record 29 of Set 6 | bathsheba\n",
      "Processing Record 30 of Set 6 | quebec\n",
      "Processing Record 31 of Set 6 | grong\n",
      "Processing Record 32 of Set 6 | kysyl-syr\n",
      "Processing Record 33 of Set 6 | yinchuan\n",
      "Processing Record 34 of Set 6 | hasaki\n",
      "Processing Record 35 of Set 6 | charters towers\n",
      "Processing Record 36 of Set 6 | kuopio\n",
      "Processing Record 37 of Set 6 | plouzane\n",
      "Processing Record 38 of Set 6 | rincon\n",
      "Processing Record 39 of Set 6 | saint anthony\n",
      "Processing Record 40 of Set 6 | naryan-mar\n",
      "Processing Record 41 of Set 6 | el alto\n",
      "Processing Record 42 of Set 6 | yerofey pavlovich\n",
      "Processing Record 43 of Set 6 | rodrigues alves\n",
      "Processing Record 44 of Set 6 | kahului\n",
      "Processing Record 45 of Set 6 | andra\n",
      "Processing Record 46 of Set 6 | koygorodok\n",
      "Processing Record 47 of Set 6 | birao\n",
      "Processing Record 48 of Set 6 | taraz\n",
      "Processing Record 49 of Set 6 | honiara\n",
      "Processing Record 50 of Set 6 | ler\n",
      "Processing Record 0 of Set 7 | funes\n",
      "Processing Record 1 of Set 7 | ilulissat\n",
      "Processing Record 2 of Set 7 | saint-pierre\n",
      "Processing Record 3 of Set 7 | luwuk\n",
      "Processing Record 4 of Set 7 | diamantino\n",
      "Processing Record 5 of Set 7 | norman wells\n",
      "Processing Record 6 of Set 7 | cidreira\n",
      "Processing Record 7 of Set 7 | berezovyy\n",
      "Processing Record 8 of Set 7 | kibakwe\n",
      "Processing Record 9 of Set 7 | khandbari\n",
      "Processing Record 10 of Set 7 | tshikapa\n",
      "Processing Record 11 of Set 7 | lerwick\n",
      "Processing Record 12 of Set 7 | shumyachi\n",
      "Processing Record 13 of Set 7 | monforte de lemos\n",
      "Processing Record 14 of Set 7 | meadow lake\n",
      "Processing Record 15 of Set 7 | syracuse\n",
      "Processing Record 16 of Set 7 | te anau\n",
      "Processing Record 17 of Set 7 | quelimane\n",
      "Processing Record 18 of Set 7 | kieta\n",
      "Processing Record 19 of Set 7 | bull savanna\n",
      "Processing Record 20 of Set 7 | saint george\n",
      "Processing Record 21 of Set 7 | orahovac\n",
      "Processing Record 22 of Set 7 | marcona\n",
      "City not found. Skipping...\n",
      "Processing Record 23 of Set 7 | jacareacanga\n",
      "Processing Record 24 of Set 7 | kwidzyn\n",
      "Processing Record 25 of Set 7 | ruston\n",
      "Processing Record 26 of Set 7 | rosarito\n",
      "Processing Record 27 of Set 7 | umm ruwabah\n",
      "City not found. Skipping...\n",
      "Processing Record 28 of Set 7 | beringovskiy\n",
      "Processing Record 29 of Set 7 | lingao\n",
      "Processing Record 30 of Set 7 | auki\n",
      "Processing Record 31 of Set 7 | lusambo\n",
      "Processing Record 32 of Set 7 | puerto escondido\n",
      "Processing Record 33 of Set 7 | makushino\n",
      "Processing Record 34 of Set 7 | dhidhdhoo\n",
      "Processing Record 35 of Set 7 | chapais\n",
      "Processing Record 36 of Set 7 | lima\n",
      "Processing Record 37 of Set 7 | san carlos de bariloche\n",
      "Processing Record 38 of Set 7 | baykit\n",
      "Processing Record 39 of Set 7 | pervomayskoye\n",
      "Processing Record 40 of Set 7 | grand-santi\n",
      "Processing Record 41 of Set 7 | hirata\n",
      "Processing Record 42 of Set 7 | kapit\n",
      "Processing Record 43 of Set 7 | korla\n",
      "Processing Record 44 of Set 7 | guerrero negro\n",
      "Processing Record 45 of Set 7 | nyagan\n",
      "Processing Record 46 of Set 7 | yulara\n",
      "Processing Record 47 of Set 7 | bazpur\n",
      "Processing Record 48 of Set 7 | hit\n",
      "Processing Record 49 of Set 7 | afmadu\n",
      "City not found. Skipping...\n",
      "Processing Record 50 of Set 7 | aksarka\n",
      "Processing Record 0 of Set 8 | cobija\n",
      "Processing Record 1 of Set 8 | nchelenge\n",
      "Processing Record 2 of Set 8 | souris\n",
      "Processing Record 3 of Set 8 | nuevo ideal\n",
      "Processing Record 4 of Set 8 | gunjur\n",
      "Processing Record 5 of Set 8 | tyukhtet\n",
      "Processing Record 6 of Set 8 | mount isa\n",
      "Processing Record 7 of Set 8 | srednekolymsk\n",
      "Processing Record 8 of Set 8 | west bay\n",
      "Processing Record 9 of Set 8 | manzanillo\n",
      "Processing Record 10 of Set 8 | caravelas\n",
      "Processing Record 11 of Set 8 | sentyabrskiy\n",
      "City not found. Skipping...\n",
      "Processing Record 12 of Set 8 | talcahuano\n",
      "Processing Record 13 of Set 8 | kirakira\n",
      "Processing Record 14 of Set 8 | acapulco\n",
      "Processing Record 15 of Set 8 | doka\n",
      "Processing Record 16 of Set 8 | salmon arm\n",
      "Processing Record 17 of Set 8 | rimini\n",
      "Processing Record 18 of Set 8 | jand\n",
      "Processing Record 19 of Set 8 | kavaratti\n",
      "Processing Record 20 of Set 8 | havoysund\n",
      "Processing Record 21 of Set 8 | kanniyakumari\n"
     ]
    },
    {
     "name": "stdout",
     "output_type": "stream",
     "text": [
      "Processing Record 22 of Set 8 | necochea\n",
      "Processing Record 23 of Set 8 | millington\n",
      "Processing Record 24 of Set 8 | nalut\n",
      "Processing Record 25 of Set 8 | saldanha\n",
      "Processing Record 26 of Set 8 | le port\n",
      "Processing Record 27 of Set 8 | nurota\n",
      "Processing Record 28 of Set 8 | bambous virieux\n",
      "Processing Record 29 of Set 8 | gornyy\n",
      "Processing Record 30 of Set 8 | wewak\n",
      "Processing Record 31 of Set 8 | povenets\n",
      "Processing Record 32 of Set 8 | dalby\n",
      "Processing Record 33 of Set 8 | esperance\n",
      "Processing Record 34 of Set 8 | inirida\n",
      "Processing Record 35 of Set 8 | strelka\n",
      "Processing Record 36 of Set 8 | yeletskiy\n",
      "City not found. Skipping...\n",
      "Processing Record 37 of Set 8 | lolua\n",
      "City not found. Skipping...\n",
      "Processing Record 38 of Set 8 | grand gaube\n",
      "Processing Record 39 of Set 8 | lucapa\n",
      "Processing Record 40 of Set 8 | san andres\n",
      "Processing Record 41 of Set 8 | wankaner\n",
      "Processing Record 42 of Set 8 | saint-leu\n",
      "Processing Record 43 of Set 8 | mount gambier\n",
      "Processing Record 44 of Set 8 | wattegama\n",
      "Processing Record 45 of Set 8 | ejido\n",
      "Processing Record 46 of Set 8 | yerbogachen\n",
      "Processing Record 47 of Set 8 | itaituba\n",
      "Processing Record 48 of Set 8 | avera\n",
      "Processing Record 49 of Set 8 | tazmalt\n",
      "Processing Record 50 of Set 8 | makakilo city\n",
      "Processing Record 0 of Set 9 | muhos\n",
      "Processing Record 1 of Set 9 | san pedro\n",
      "Processing Record 2 of Set 9 | mosquera\n",
      "Processing Record 3 of Set 9 | chihuahua\n",
      "Processing Record 4 of Set 9 | tumannyy\n",
      "City not found. Skipping...\n",
      "Processing Record 5 of Set 9 | tual\n",
      "Processing Record 6 of Set 9 | pauri\n",
      "Processing Record 7 of Set 9 | solovetskiy\n",
      "City not found. Skipping...\n",
      "Processing Record 8 of Set 9 | bangassou\n",
      "Processing Record 9 of Set 9 | tidore\n",
      "City not found. Skipping...\n",
      "Processing Record 10 of Set 9 | morogoro\n",
      "Processing Record 11 of Set 9 | sitka\n",
      "Processing Record 12 of Set 9 | tres arroyos\n",
      "Processing Record 13 of Set 9 | namibe\n",
      "Processing Record 14 of Set 9 | whithorn\n",
      "Processing Record 15 of Set 9 | tiksi\n",
      "Processing Record 16 of Set 9 | rantauprapat\n",
      "Processing Record 17 of Set 9 | la gaulette\n",
      "City not found. Skipping...\n",
      "Processing Record 18 of Set 9 | maniitsoq\n",
      "Processing Record 19 of Set 9 | mikkeli\n",
      "Processing Record 20 of Set 9 | mahibadhoo\n",
      "Processing Record 21 of Set 9 | ikom\n",
      "Processing Record 22 of Set 9 | namatanai\n",
      "Processing Record 23 of Set 9 | vostok\n",
      "Processing Record 24 of Set 9 | carballo\n",
      "Processing Record 25 of Set 9 | whitehorse\n",
      "Processing Record 26 of Set 9 | tuy hoa\n",
      "Processing Record 27 of Set 9 | qui nhon\n",
      "Processing Record 28 of Set 9 | burnie\n",
      "Processing Record 29 of Set 9 | deputatskiy\n",
      "Processing Record 30 of Set 9 | tarpon springs\n",
      "Processing Record 31 of Set 9 | fortuna\n",
      "Processing Record 32 of Set 9 | jalu\n",
      "Processing Record 33 of Set 9 | batagay-alyta\n",
      "Processing Record 34 of Set 9 | chara\n",
      "Processing Record 35 of Set 9 | yumbing\n",
      "Processing Record 36 of Set 9 | ploemeur\n",
      "Processing Record 37 of Set 9 | dolinsk\n",
      "Processing Record 38 of Set 9 | maningrida\n",
      "Processing Record 39 of Set 9 | verkhnevilyuysk\n",
      "Processing Record 40 of Set 9 | dukat\n",
      "Processing Record 41 of Set 9 | nizhneyansk\n",
      "City not found. Skipping...\n",
      "Processing Record 42 of Set 9 | junin\n",
      "Processing Record 43 of Set 9 | samusu\n",
      "City not found. Skipping...\n",
      "Processing Record 44 of Set 9 | ranot\n",
      "Processing Record 45 of Set 9 | vila franca do campo\n",
      "Processing Record 46 of Set 9 | bulawayo\n",
      "Processing Record 47 of Set 9 | rybnaya sloboda\n",
      "Processing Record 48 of Set 9 | jieshi\n",
      "Processing Record 49 of Set 9 | marataizes\n",
      "Processing Record 50 of Set 9 | rawson\n",
      "Processing Record 0 of Set 10 | tabou\n",
      "Processing Record 1 of Set 10 | nortelandia\n",
      "Processing Record 2 of Set 10 | moryakovskiy zaton\n",
      "Processing Record 3 of Set 10 | waitati\n",
      "Processing Record 4 of Set 10 | kayerkan\n",
      "Processing Record 5 of Set 10 | pemangkat\n",
      "Processing Record 6 of Set 10 | la rioja\n",
      "Processing Record 7 of Set 10 | arlit\n",
      "Processing Record 8 of Set 10 | tucumcari\n",
      "Processing Record 9 of Set 10 | jiancheng\n",
      "Processing Record 10 of Set 10 | sao francisco de paula\n",
      "Processing Record 11 of Set 10 | kulachi\n",
      "Processing Record 12 of Set 10 | kailua\n",
      "Processing Record 13 of Set 10 | alugan\n",
      "Processing Record 14 of Set 10 | bilibino\n",
      "Processing Record 15 of Set 10 | cairns\n",
      "Processing Record 16 of Set 10 | jinchang\n",
      "Processing Record 17 of Set 10 | gushikawa\n",
      "Processing Record 18 of Set 10 | kilemary\n",
      "Processing Record 19 of Set 10 | bolungarvik\n",
      "City not found. Skipping...\n",
      "Processing Record 20 of Set 10 | aracoiaba\n",
      "Processing Record 21 of Set 10 | pitimbu\n",
      "Processing Record 22 of Set 10 | rio de janeiro\n",
      "Processing Record 23 of Set 10 | boca do acre\n",
      "Processing Record 24 of Set 10 | beidao\n",
      "Processing Record 25 of Set 10 | aykhal\n",
      "Processing Record 26 of Set 10 | chitral\n",
      "Processing Record 27 of Set 10 | thohoyandou\n",
      "Processing Record 28 of Set 10 | bonthe\n",
      "Processing Record 29 of Set 10 | texarkana\n",
      "Processing Record 30 of Set 10 | pacific grove\n",
      "Processing Record 31 of Set 10 | saint peter\n",
      "Processing Record 32 of Set 10 | udachnyy\n",
      "Processing Record 33 of Set 10 | kaeo\n",
      "Processing Record 34 of Set 10 | mumford\n",
      "Processing Record 35 of Set 10 | samarinda\n",
      "Processing Record 36 of Set 10 | george town\n",
      "Processing Record 37 of Set 10 | ayan\n",
      "Processing Record 38 of Set 10 | kodiak\n",
      "Processing Record 39 of Set 10 | vanimo\n",
      "Processing Record 40 of Set 10 | invermere\n",
      "Processing Record 41 of Set 10 | lasa\n",
      "Processing Record 42 of Set 10 | chagda\n",
      "City not found. Skipping...\n",
      "Processing Record 43 of Set 10 | chavakkad\n",
      "Processing Record 44 of Set 10 | sao gabriel da cachoeira\n",
      "Processing Record 45 of Set 10 | zhezkazgan\n",
      "Processing Record 46 of Set 10 | gravdal\n",
      "Processing Record 47 of Set 10 | bandarbeyla\n",
      "Processing Record 48 of Set 10 | wakkanai\n",
      "Processing Record 49 of Set 10 | wasilla\n",
      "Processing Record 50 of Set 10 | porto san giorgio\n",
      "Processing Record 0 of Set 11 | zhangye\n",
      "Processing Record 1 of Set 11 | hunza\n",
      "City not found. Skipping...\n",
      "Processing Record 2 of Set 11 | komsomolets\n",
      "Processing Record 3 of Set 11 | hurghada\n",
      "Processing Record 4 of Set 11 | jyvaskyla\n",
      "Processing Record 5 of Set 11 | lorengau\n",
      "Processing Record 6 of Set 11 | trinidad\n",
      "Processing Record 7 of Set 11 | tupsan\n",
      "Processing Record 8 of Set 11 | ramanathapuram\n",
      "Processing Record 9 of Set 11 | batan\n",
      "Processing Record 10 of Set 11 | liepaja\n",
      "Processing Record 11 of Set 11 | pinerolo\n",
      "Processing Record 12 of Set 11 | bosaso\n",
      "Processing Record 13 of Set 11 | cukai\n",
      "Processing Record 14 of Set 11 | toftir\n",
      "City not found. Skipping...\n",
      "Processing Record 15 of Set 11 | kutum\n",
      "Processing Record 16 of Set 11 | pijijiapan\n",
      "Processing Record 17 of Set 11 | samfya\n",
      "Processing Record 18 of Set 11 | mizpe ramon\n",
      "City not found. Skipping...\n",
      "Processing Record 19 of Set 11 | la libertad\n",
      "Processing Record 20 of Set 11 | leshukonskoye\n",
      "Processing Record 21 of Set 11 | shache\n",
      "Processing Record 22 of Set 11 | moussoro\n",
      "Processing Record 23 of Set 11 | ngunguru\n",
      "Processing Record 24 of Set 11 | aklavik\n",
      "Processing Record 25 of Set 11 | vikulovo\n",
      "Processing Record 26 of Set 11 | richards bay\n",
      "Processing Record 27 of Set 11 | meulaboh\n",
      "Processing Record 28 of Set 11 | koster\n",
      "Processing Record 29 of Set 11 | pokhara\n",
      "Processing Record 30 of Set 11 | coolum beach\n",
      "Processing Record 31 of Set 11 | bilma\n",
      "Processing Record 32 of Set 11 | filingue\n",
      "Processing Record 33 of Set 11 | mocuba\n",
      "Processing Record 34 of Set 11 | bedesa\n",
      "Processing Record 35 of Set 11 | mana\n",
      "Processing Record 36 of Set 11 | hvolsvollur\n",
      "Processing Record 37 of Set 11 | narsaq\n",
      "Processing Record 38 of Set 11 | nyandoma\n",
      "Processing Record 39 of Set 11 | langxiang\n",
      "Processing Record 40 of Set 11 | saint-georges\n",
      "Processing Record 41 of Set 11 | kansanshi\n",
      "Processing Record 42 of Set 11 | chingirlau\n",
      "Processing Record 43 of Set 11 | klaksvik\n",
      "Processing Record 44 of Set 11 | nakusp\n",
      "Processing Record 45 of Set 11 | ginda\n",
      "Processing Record 46 of Set 11 | izhma\n",
      "Processing Record 47 of Set 11 | talara\n",
      "Processing Record 48 of Set 11 | taoudenni\n",
      "Processing Record 49 of Set 11 | yumen\n",
      "Processing Record 50 of Set 11 | chubbuck\n",
      "Processing Record 0 of Set 12 | berlevag\n",
      "Processing Record 1 of Set 12 | lata\n",
      "Processing Record 2 of Set 12 | bambanglipuro\n",
      "Processing Record 3 of Set 12 | cayenne\n",
      "Processing Record 4 of Set 12 | porto novo\n",
      "Processing Record 5 of Set 12 | mehamn\n"
     ]
    },
    {
     "name": "stdout",
     "output_type": "stream",
     "text": [
      "Processing Record 6 of Set 12 | zhanaozen\n",
      "Processing Record 7 of Set 12 | khrystynivka\n",
      "Processing Record 8 of Set 12 | mergui\n",
      "City not found. Skipping...\n",
      "Processing Record 9 of Set 12 | novo aripuana\n",
      "Processing Record 10 of Set 12 | zyryanka\n",
      "Processing Record 11 of Set 12 | punta de piedra\n",
      "Processing Record 12 of Set 12 | mpika\n",
      "Processing Record 13 of Set 12 | komsomolskiy\n",
      "Processing Record 14 of Set 12 | dromolaxia\n",
      "Processing Record 15 of Set 12 | warqla\n",
      "City not found. Skipping...\n",
      "Processing Record 16 of Set 12 | san cristobal\n",
      "Processing Record 17 of Set 12 | fairbanks\n",
      "Processing Record 18 of Set 12 | port hardy\n",
      "Processing Record 19 of Set 12 | singarayakonda\n",
      "Processing Record 20 of Set 12 | leo\n",
      "Processing Record 21 of Set 12 | skovorodino\n",
      "Processing Record 22 of Set 12 | nhulunbuy\n",
      "Processing Record 23 of Set 12 | puerto colombia\n",
      "Processing Record 24 of Set 12 | duzce\n",
      "Processing Record 25 of Set 12 | morondava\n",
      "Processing Record 26 of Set 12 | verkhnyaya inta\n",
      "Processing Record 27 of Set 12 | gweta\n",
      "Processing Record 28 of Set 12 | qarqin\n",
      "Processing Record 29 of Set 12 | skibbereen\n",
      "Processing Record 30 of Set 12 | abu zabad\n",
      "Processing Record 31 of Set 12 | yomitan\n",
      "City not found. Skipping...\n",
      "Processing Record 32 of Set 12 | digras\n",
      "Processing Record 33 of Set 12 | port augusta\n",
      "Processing Record 34 of Set 12 | valparaiso\n",
      "Processing Record 35 of Set 12 | kazalinsk\n",
      "City not found. Skipping...\n",
      "Processing Record 36 of Set 12 | omaruru\n",
      "Processing Record 37 of Set 12 | shaghat\n",
      "Processing Record 38 of Set 12 | kamenskoye\n",
      "City not found. Skipping...\n",
      "Processing Record 39 of Set 12 | salmas\n",
      "Processing Record 40 of Set 12 | setermoen\n",
      "Processing Record 41 of Set 12 | ust-omchug\n",
      "Processing Record 42 of Set 12 | sakakah\n",
      "Processing Record 43 of Set 12 | awjilah\n",
      "Processing Record 44 of Set 12 | launceston\n",
      "Processing Record 45 of Set 12 | colares\n",
      "Processing Record 46 of Set 12 | gizo\n",
      "Processing Record 47 of Set 12 | khonuu\n",
      "City not found. Skipping...\n",
      "Processing Record 48 of Set 12 | santa barbara\n",
      "Processing Record 49 of Set 12 | sandane\n",
      "Processing Record 50 of Set 12 | asyut\n",
      "Processing Record 0 of Set 13 | scarborough\n",
      "Processing Record 1 of Set 13 | denpasar\n",
      "Processing Record 2 of Set 13 | ribas do rio pardo\n",
      "Processing Record 3 of Set 13 | pokrovsk\n",
      "Processing Record 4 of Set 13 | atambua\n",
      "Processing Record 5 of Set 13 | vestmannaeyjar\n",
      "Processing Record 6 of Set 13 | teya\n",
      "Processing Record 7 of Set 13 | banganapalle\n",
      "Processing Record 8 of Set 13 | mayo\n",
      "Processing Record 9 of Set 13 | solano\n",
      "Processing Record 10 of Set 13 | muisne\n",
      "Processing Record 11 of Set 13 | ajdabiya\n",
      "Processing Record 12 of Set 13 | isla vista\n",
      "Processing Record 13 of Set 13 | rab\n",
      "City not found. Skipping...\n",
      "Processing Record 14 of Set 13 | portland\n",
      "Processing Record 15 of Set 13 | mokhsogollokh\n",
      "Processing Record 16 of Set 13 | seoul\n",
      "Processing Record 17 of Set 13 | itarema\n",
      "Processing Record 18 of Set 13 | saint-paul\n",
      "Processing Record 19 of Set 13 | aitape\n",
      "Processing Record 20 of Set 13 | pendleton\n",
      "Processing Record 21 of Set 13 | mayumba\n",
      "Processing Record 22 of Set 13 | mbandaka\n",
      "Processing Record 23 of Set 13 | kenai\n",
      "Processing Record 24 of Set 13 | mozarlandia\n",
      "Processing Record 25 of Set 13 | grudziadz\n",
      "Processing Record 26 of Set 13 | kruisfontein\n",
      "Processing Record 27 of Set 13 | mudyuga\n",
      "City not found. Skipping...\n",
      "Processing Record 28 of Set 13 | mutsamudu\n",
      "City not found. Skipping...\n",
      "Processing Record 29 of Set 13 | uthal\n",
      "Processing Record 30 of Set 13 | rize\n",
      "Processing Record 31 of Set 13 | ugoofaaru\n",
      "Processing Record 32 of Set 13 | shilka\n",
      "-------------------------\n",
      "Data Retrieval Complete\n",
      "-------------------------\n"
     ]
    }
   ],
   "source": [
    "# Save config information\n",
    "url = \"http://api.openweathermap.org/data/2.5/weather?\"\n",
    "\n",
    "print(\"Beginning Data Retrieval\")   \n",
    "print(\"-----------------------------\")\n",
    "\n",
    "record_count = 0\n",
    "set_count = 1\n",
    "for i in cities: \n",
    "    query_url = url + f\"q={i}&appid={weather_api_key}&units=imperial\"\n",
    "    response = requests.get(query_url).json()\n",
    "\n",
    "    \n",
    "    if record_count > 49:\n",
    "        record_count = 0\n",
    "        set_count += 1\n",
    "    else:\n",
    "        record_count += 1\n",
    "    \n",
    "    print(f\"Processing Record {record_count} of Set {set_count} | {i}\")\n",
    "    try: \n",
    "#         new_cities.append(i)\n",
    "        lat.append(response['coord']['lat'])\n",
    "        lng.append(response['coord']['lon'])\n",
    "        max_temp.append(response['main']['temp_max'])\n",
    "        humidity.append(response['main']['humidity'])\n",
    "        cloudiness.append(response['clouds']['all'])\n",
    "        wind_speed.append(response['wind']['speed'])\n",
    "        country.append(response['sys']['country'])\n",
    "        date.append(response['dt'])\n",
    "        new_cities.append(i)\n",
    "    except:\n",
    "        print(\"City not found. Skipping...\")\n",
    "        pass\n",
    "print('-------------------------')\n",
    "print('Data Retrieval Complete')\n",
    "print('-------------------------')"
   ]
  },
  {
   "cell_type": "markdown",
   "metadata": {},
   "source": [
    "### Convert Raw Data to DataFrame\n",
    "* Export the city data into a .csv.\n",
    "* Display the DataFrame"
   ]
  },
  {
   "cell_type": "code",
   "execution_count": 6,
   "metadata": {},
   "outputs": [
    {
     "data": {
      "text/html": [
       "<div>\n",
       "<style scoped>\n",
       "    .dataframe tbody tr th:only-of-type {\n",
       "        vertical-align: middle;\n",
       "    }\n",
       "\n",
       "    .dataframe tbody tr th {\n",
       "        vertical-align: top;\n",
       "    }\n",
       "\n",
       "    .dataframe thead th {\n",
       "        text-align: right;\n",
       "    }\n",
       "</style>\n",
       "<table border=\"1\" class=\"dataframe\">\n",
       "  <thead>\n",
       "    <tr style=\"text-align: right;\">\n",
       "      <th></th>\n",
       "      <th>City</th>\n",
       "      <th>Lat</th>\n",
       "      <th>Lng</th>\n",
       "      <th>Max Temp</th>\n",
       "      <th>Humidity</th>\n",
       "      <th>Cloudiness</th>\n",
       "      <th>Wind Speed</th>\n",
       "      <th>Country</th>\n",
       "      <th>Date</th>\n",
       "    </tr>\n",
       "  </thead>\n",
       "  <tbody>\n",
       "    <tr>\n",
       "      <th>0</th>\n",
       "      <td>wukari</td>\n",
       "      <td>7.8500</td>\n",
       "      <td>9.7833</td>\n",
       "      <td>72.79</td>\n",
       "      <td>86</td>\n",
       "      <td>74</td>\n",
       "      <td>3.53</td>\n",
       "      <td>NG</td>\n",
       "      <td>1624484177</td>\n",
       "    </tr>\n",
       "    <tr>\n",
       "      <th>1</th>\n",
       "      <td>ushuaia</td>\n",
       "      <td>-54.8000</td>\n",
       "      <td>-68.3000</td>\n",
       "      <td>37.02</td>\n",
       "      <td>80</td>\n",
       "      <td>20</td>\n",
       "      <td>3.44</td>\n",
       "      <td>AR</td>\n",
       "      <td>1624483891</td>\n",
       "    </tr>\n",
       "    <tr>\n",
       "      <th>2</th>\n",
       "      <td>dikson</td>\n",
       "      <td>73.5069</td>\n",
       "      <td>80.5464</td>\n",
       "      <td>35.04</td>\n",
       "      <td>92</td>\n",
       "      <td>100</td>\n",
       "      <td>12.88</td>\n",
       "      <td>RU</td>\n",
       "      <td>1624484177</td>\n",
       "    </tr>\n",
       "    <tr>\n",
       "      <th>3</th>\n",
       "      <td>port alfred</td>\n",
       "      <td>-33.5906</td>\n",
       "      <td>26.8910</td>\n",
       "      <td>59.50</td>\n",
       "      <td>81</td>\n",
       "      <td>98</td>\n",
       "      <td>11.83</td>\n",
       "      <td>ZA</td>\n",
       "      <td>1624484178</td>\n",
       "    </tr>\n",
       "    <tr>\n",
       "      <th>4</th>\n",
       "      <td>hobart</td>\n",
       "      <td>-42.8794</td>\n",
       "      <td>147.3294</td>\n",
       "      <td>51.22</td>\n",
       "      <td>88</td>\n",
       "      <td>0</td>\n",
       "      <td>10.36</td>\n",
       "      <td>AU</td>\n",
       "      <td>1624484178</td>\n",
       "    </tr>\n",
       "    <tr>\n",
       "      <th>...</th>\n",
       "      <td>...</td>\n",
       "      <td>...</td>\n",
       "      <td>...</td>\n",
       "      <td>...</td>\n",
       "      <td>...</td>\n",
       "      <td>...</td>\n",
       "      <td>...</td>\n",
       "      <td>...</td>\n",
       "      <td>...</td>\n",
       "    </tr>\n",
       "    <tr>\n",
       "      <th>590</th>\n",
       "      <td>kruisfontein</td>\n",
       "      <td>-34.0033</td>\n",
       "      <td>24.7314</td>\n",
       "      <td>56.88</td>\n",
       "      <td>91</td>\n",
       "      <td>100</td>\n",
       "      <td>6.04</td>\n",
       "      <td>ZA</td>\n",
       "      <td>1624484423</td>\n",
       "    </tr>\n",
       "    <tr>\n",
       "      <th>591</th>\n",
       "      <td>uthal</td>\n",
       "      <td>25.8072</td>\n",
       "      <td>66.6219</td>\n",
       "      <td>82.92</td>\n",
       "      <td>79</td>\n",
       "      <td>58</td>\n",
       "      <td>7.81</td>\n",
       "      <td>PK</td>\n",
       "      <td>1624484424</td>\n",
       "    </tr>\n",
       "    <tr>\n",
       "      <th>592</th>\n",
       "      <td>rize</td>\n",
       "      <td>40.9044</td>\n",
       "      <td>40.8949</td>\n",
       "      <td>52.07</td>\n",
       "      <td>83</td>\n",
       "      <td>57</td>\n",
       "      <td>0.92</td>\n",
       "      <td>TR</td>\n",
       "      <td>1624484425</td>\n",
       "    </tr>\n",
       "    <tr>\n",
       "      <th>593</th>\n",
       "      <td>ugoofaaru</td>\n",
       "      <td>5.6667</td>\n",
       "      <td>73.0000</td>\n",
       "      <td>82.15</td>\n",
       "      <td>77</td>\n",
       "      <td>100</td>\n",
       "      <td>13.56</td>\n",
       "      <td>MV</td>\n",
       "      <td>1624484425</td>\n",
       "    </tr>\n",
       "    <tr>\n",
       "      <th>594</th>\n",
       "      <td>shilka</td>\n",
       "      <td>51.8500</td>\n",
       "      <td>116.0333</td>\n",
       "      <td>61.95</td>\n",
       "      <td>92</td>\n",
       "      <td>100</td>\n",
       "      <td>2.55</td>\n",
       "      <td>RU</td>\n",
       "      <td>1624484425</td>\n",
       "    </tr>\n",
       "  </tbody>\n",
       "</table>\n",
       "<p>595 rows × 9 columns</p>\n",
       "</div>"
      ],
      "text/plain": [
       "             City      Lat       Lng  Max Temp  Humidity  Cloudiness  \\\n",
       "0          wukari   7.8500    9.7833     72.79        86          74   \n",
       "1         ushuaia -54.8000  -68.3000     37.02        80          20   \n",
       "2          dikson  73.5069   80.5464     35.04        92         100   \n",
       "3     port alfred -33.5906   26.8910     59.50        81          98   \n",
       "4          hobart -42.8794  147.3294     51.22        88           0   \n",
       "..            ...      ...       ...       ...       ...         ...   \n",
       "590  kruisfontein -34.0033   24.7314     56.88        91         100   \n",
       "591         uthal  25.8072   66.6219     82.92        79          58   \n",
       "592          rize  40.9044   40.8949     52.07        83          57   \n",
       "593     ugoofaaru   5.6667   73.0000     82.15        77         100   \n",
       "594        shilka  51.8500  116.0333     61.95        92         100   \n",
       "\n",
       "     Wind Speed Country        Date  \n",
       "0          3.53      NG  1624484177  \n",
       "1          3.44      AR  1624483891  \n",
       "2         12.88      RU  1624484177  \n",
       "3         11.83      ZA  1624484178  \n",
       "4         10.36      AU  1624484178  \n",
       "..          ...     ...         ...  \n",
       "590        6.04      ZA  1624484423  \n",
       "591        7.81      PK  1624484424  \n",
       "592        0.92      TR  1624484425  \n",
       "593       13.56      MV  1624484425  \n",
       "594        2.55      RU  1624484425  \n",
       "\n",
       "[595 rows x 9 columns]"
      ]
     },
     "execution_count": 6,
     "metadata": {},
     "output_type": "execute_result"
    }
   ],
   "source": [
    "weather_dict = {\n",
    "    \"City\": new_cities,\n",
    "    \"Lat\": lat,\n",
    "    \"Lng\": lng,\n",
    "    \"Max Temp\": max_temp,\n",
    "    \"Humidity\": humidity,\n",
    "    \"Cloudiness\": cloudiness,\n",
    "    \"Wind Speed\": wind_speed,\n",
    "    \"Country\": country,\n",
    "    \"Date\": date,\n",
    "}\n",
    "weather_df = pd.DataFrame.from_dict(weather_dict)\n",
    "weather_df"
   ]
  },
  {
   "cell_type": "code",
   "execution_count": 7,
   "metadata": {
    "scrolled": true
   },
   "outputs": [
    {
     "data": {
      "text/html": [
       "<div>\n",
       "<style scoped>\n",
       "    .dataframe tbody tr th:only-of-type {\n",
       "        vertical-align: middle;\n",
       "    }\n",
       "\n",
       "    .dataframe tbody tr th {\n",
       "        vertical-align: top;\n",
       "    }\n",
       "\n",
       "    .dataframe thead th {\n",
       "        text-align: right;\n",
       "    }\n",
       "</style>\n",
       "<table border=\"1\" class=\"dataframe\">\n",
       "  <thead>\n",
       "    <tr style=\"text-align: right;\">\n",
       "      <th></th>\n",
       "      <th>Lat</th>\n",
       "      <th>Lng</th>\n",
       "      <th>Max Temp</th>\n",
       "      <th>Humidity</th>\n",
       "      <th>Cloudiness</th>\n",
       "      <th>Wind Speed</th>\n",
       "      <th>Date</th>\n",
       "    </tr>\n",
       "  </thead>\n",
       "  <tbody>\n",
       "    <tr>\n",
       "      <th>count</th>\n",
       "      <td>595.000000</td>\n",
       "      <td>595.000000</td>\n",
       "      <td>595.000000</td>\n",
       "      <td>595.000000</td>\n",
       "      <td>595.000000</td>\n",
       "      <td>595.000000</td>\n",
       "      <td>5.950000e+02</td>\n",
       "    </tr>\n",
       "    <tr>\n",
       "      <th>mean</th>\n",
       "      <td>20.608986</td>\n",
       "      <td>19.110298</td>\n",
       "      <td>69.445395</td>\n",
       "      <td>68.931092</td>\n",
       "      <td>54.112605</td>\n",
       "      <td>7.340555</td>\n",
       "      <td>1.624484e+09</td>\n",
       "    </tr>\n",
       "    <tr>\n",
       "      <th>std</th>\n",
       "      <td>32.588771</td>\n",
       "      <td>89.164886</td>\n",
       "      <td>13.908270</td>\n",
       "      <td>21.325053</td>\n",
       "      <td>37.764721</td>\n",
       "      <td>5.074097</td>\n",
       "      <td>8.914833e+01</td>\n",
       "    </tr>\n",
       "    <tr>\n",
       "      <th>min</th>\n",
       "      <td>-54.800000</td>\n",
       "      <td>-179.166700</td>\n",
       "      <td>34.050000</td>\n",
       "      <td>8.000000</td>\n",
       "      <td>0.000000</td>\n",
       "      <td>0.000000</td>\n",
       "      <td>1.624484e+09</td>\n",
       "    </tr>\n",
       "    <tr>\n",
       "      <th>25%</th>\n",
       "      <td>-4.861400</td>\n",
       "      <td>-58.693500</td>\n",
       "      <td>59.440000</td>\n",
       "      <td>58.000000</td>\n",
       "      <td>20.000000</td>\n",
       "      <td>3.510000</td>\n",
       "      <td>1.624484e+09</td>\n",
       "    </tr>\n",
       "    <tr>\n",
       "      <th>50%</th>\n",
       "      <td>22.678300</td>\n",
       "      <td>25.570100</td>\n",
       "      <td>71.290000</td>\n",
       "      <td>74.000000</td>\n",
       "      <td>60.000000</td>\n",
       "      <td>6.310000</td>\n",
       "      <td>1.624484e+09</td>\n",
       "    </tr>\n",
       "    <tr>\n",
       "      <th>75%</th>\n",
       "      <td>46.746450</td>\n",
       "      <td>94.939250</td>\n",
       "      <td>80.085000</td>\n",
       "      <td>85.000000</td>\n",
       "      <td>92.000000</td>\n",
       "      <td>10.120000</td>\n",
       "      <td>1.624484e+09</td>\n",
       "    </tr>\n",
       "    <tr>\n",
       "      <th>max</th>\n",
       "      <td>78.218600</td>\n",
       "      <td>179.316700</td>\n",
       "      <td>107.440000</td>\n",
       "      <td>100.000000</td>\n",
       "      <td>100.000000</td>\n",
       "      <td>27.630000</td>\n",
       "      <td>1.624484e+09</td>\n",
       "    </tr>\n",
       "  </tbody>\n",
       "</table>\n",
       "</div>"
      ],
      "text/plain": [
       "              Lat         Lng    Max Temp    Humidity  Cloudiness  Wind Speed  \\\n",
       "count  595.000000  595.000000  595.000000  595.000000  595.000000  595.000000   \n",
       "mean    20.608986   19.110298   69.445395   68.931092   54.112605    7.340555   \n",
       "std     32.588771   89.164886   13.908270   21.325053   37.764721    5.074097   \n",
       "min    -54.800000 -179.166700   34.050000    8.000000    0.000000    0.000000   \n",
       "25%     -4.861400  -58.693500   59.440000   58.000000   20.000000    3.510000   \n",
       "50%     22.678300   25.570100   71.290000   74.000000   60.000000    6.310000   \n",
       "75%     46.746450   94.939250   80.085000   85.000000   92.000000   10.120000   \n",
       "max     78.218600  179.316700  107.440000  100.000000  100.000000   27.630000   \n",
       "\n",
       "               Date  \n",
       "count  5.950000e+02  \n",
       "mean   1.624484e+09  \n",
       "std    8.914833e+01  \n",
       "min    1.624484e+09  \n",
       "25%    1.624484e+09  \n",
       "50%    1.624484e+09  \n",
       "75%    1.624484e+09  \n",
       "max    1.624484e+09  "
      ]
     },
     "execution_count": 7,
     "metadata": {},
     "output_type": "execute_result"
    }
   ],
   "source": [
    "weather_df.describe()"
   ]
  },
  {
   "cell_type": "code",
   "execution_count": 46,
   "metadata": {},
   "outputs": [
    {
     "ename": "FileNotFoundError",
     "evalue": "[Errno 2] No such file or directory: 'output_data/cities.csv'",
     "output_type": "error",
     "traceback": [
      "\u001b[0;31m---------------------------------------------------------------------------\u001b[0m",
      "\u001b[0;31mFileNotFoundError\u001b[0m                         Traceback (most recent call last)",
      "\u001b[0;32m<ipython-input-46-58e98a7e64b3>\u001b[0m in \u001b[0;36m<module>\u001b[0;34m\u001b[0m\n\u001b[1;32m      1\u001b[0m \u001b[0;31m# Outputting data to csv file\u001b[0m\u001b[0;34m\u001b[0m\u001b[0;34m\u001b[0m\u001b[0;34m\u001b[0m\u001b[0m\n\u001b[0;32m----> 2\u001b[0;31m \u001b[0mweather_df\u001b[0m\u001b[0;34m.\u001b[0m\u001b[0mto_csv\u001b[0m\u001b[0;34m(\u001b[0m\u001b[0moutput_data_file\u001b[0m\u001b[0;34m)\u001b[0m\u001b[0;34m\u001b[0m\u001b[0;34m\u001b[0m\u001b[0m\n\u001b[0m",
      "\u001b[0;32m~/opt/anaconda3/lib/python3.8/site-packages/pandas/core/generic.py\u001b[0m in \u001b[0;36mto_csv\u001b[0;34m(self, path_or_buf, sep, na_rep, float_format, columns, header, index, index_label, mode, encoding, compression, quoting, quotechar, line_terminator, chunksize, date_format, doublequote, escapechar, decimal, errors)\u001b[0m\n\u001b[1;32m   3168\u001b[0m             \u001b[0mdecimal\u001b[0m\u001b[0;34m=\u001b[0m\u001b[0mdecimal\u001b[0m\u001b[0;34m,\u001b[0m\u001b[0;34m\u001b[0m\u001b[0;34m\u001b[0m\u001b[0m\n\u001b[1;32m   3169\u001b[0m         )\n\u001b[0;32m-> 3170\u001b[0;31m         \u001b[0mformatter\u001b[0m\u001b[0;34m.\u001b[0m\u001b[0msave\u001b[0m\u001b[0;34m(\u001b[0m\u001b[0;34m)\u001b[0m\u001b[0;34m\u001b[0m\u001b[0;34m\u001b[0m\u001b[0m\n\u001b[0m\u001b[1;32m   3171\u001b[0m \u001b[0;34m\u001b[0m\u001b[0m\n\u001b[1;32m   3172\u001b[0m         \u001b[0;32mif\u001b[0m \u001b[0mpath_or_buf\u001b[0m \u001b[0;32mis\u001b[0m \u001b[0;32mNone\u001b[0m\u001b[0;34m:\u001b[0m\u001b[0;34m\u001b[0m\u001b[0;34m\u001b[0m\u001b[0m\n",
      "\u001b[0;32m~/opt/anaconda3/lib/python3.8/site-packages/pandas/io/formats/csvs.py\u001b[0m in \u001b[0;36msave\u001b[0;34m(self)\u001b[0m\n\u001b[1;32m    183\u001b[0m             \u001b[0mclose\u001b[0m \u001b[0;34m=\u001b[0m \u001b[0;32mFalse\u001b[0m\u001b[0;34m\u001b[0m\u001b[0;34m\u001b[0m\u001b[0m\n\u001b[1;32m    184\u001b[0m         \u001b[0;32melse\u001b[0m\u001b[0;34m:\u001b[0m\u001b[0;34m\u001b[0m\u001b[0;34m\u001b[0m\u001b[0m\n\u001b[0;32m--> 185\u001b[0;31m             f, handles = get_handle(\n\u001b[0m\u001b[1;32m    186\u001b[0m                 \u001b[0mself\u001b[0m\u001b[0;34m.\u001b[0m\u001b[0mpath_or_buf\u001b[0m\u001b[0;34m,\u001b[0m\u001b[0;34m\u001b[0m\u001b[0;34m\u001b[0m\u001b[0m\n\u001b[1;32m    187\u001b[0m                 \u001b[0mself\u001b[0m\u001b[0;34m.\u001b[0m\u001b[0mmode\u001b[0m\u001b[0;34m,\u001b[0m\u001b[0;34m\u001b[0m\u001b[0;34m\u001b[0m\u001b[0m\n",
      "\u001b[0;32m~/opt/anaconda3/lib/python3.8/site-packages/pandas/io/common.py\u001b[0m in \u001b[0;36mget_handle\u001b[0;34m(path_or_buf, mode, encoding, compression, memory_map, is_text, errors)\u001b[0m\n\u001b[1;32m    491\u001b[0m         \u001b[0;32mif\u001b[0m \u001b[0mencoding\u001b[0m\u001b[0;34m:\u001b[0m\u001b[0;34m\u001b[0m\u001b[0;34m\u001b[0m\u001b[0m\n\u001b[1;32m    492\u001b[0m             \u001b[0;31m# Encoding\u001b[0m\u001b[0;34m\u001b[0m\u001b[0;34m\u001b[0m\u001b[0;34m\u001b[0m\u001b[0m\n\u001b[0;32m--> 493\u001b[0;31m             \u001b[0mf\u001b[0m \u001b[0;34m=\u001b[0m \u001b[0mopen\u001b[0m\u001b[0;34m(\u001b[0m\u001b[0mpath_or_buf\u001b[0m\u001b[0;34m,\u001b[0m \u001b[0mmode\u001b[0m\u001b[0;34m,\u001b[0m \u001b[0mencoding\u001b[0m\u001b[0;34m=\u001b[0m\u001b[0mencoding\u001b[0m\u001b[0;34m,\u001b[0m \u001b[0merrors\u001b[0m\u001b[0;34m=\u001b[0m\u001b[0merrors\u001b[0m\u001b[0;34m,\u001b[0m \u001b[0mnewline\u001b[0m\u001b[0;34m=\u001b[0m\u001b[0;34m\"\"\u001b[0m\u001b[0;34m)\u001b[0m\u001b[0;34m\u001b[0m\u001b[0;34m\u001b[0m\u001b[0m\n\u001b[0m\u001b[1;32m    494\u001b[0m         \u001b[0;32melif\u001b[0m \u001b[0mis_text\u001b[0m\u001b[0;34m:\u001b[0m\u001b[0;34m\u001b[0m\u001b[0;34m\u001b[0m\u001b[0m\n\u001b[1;32m    495\u001b[0m             \u001b[0;31m# No explicit encoding\u001b[0m\u001b[0;34m\u001b[0m\u001b[0;34m\u001b[0m\u001b[0;34m\u001b[0m\u001b[0m\n",
      "\u001b[0;31mFileNotFoundError\u001b[0m: [Errno 2] No such file or directory: 'output_data/cities.csv'"
     ]
    }
   ],
   "source": [
    "# Outputting data to csv file\n",
    "weather_df.to_csv(output_data_file)"
   ]
  },
  {
   "cell_type": "markdown",
   "metadata": {},
   "source": [
    "## Inspect the data and remove the cities where the humidity > 100%.\n",
    "----\n",
    "Skip this step if there are no cities that have humidity > 100%. "
   ]
  },
  {
   "cell_type": "code",
   "execution_count": 8,
   "metadata": {},
   "outputs": [
    {
     "data": {
      "text/plain": [
       "[]"
      ]
     },
     "execution_count": 8,
     "metadata": {},
     "output_type": "execute_result"
    }
   ],
   "source": [
    "#  Get the indices of cities that have humidity over 100%.\n",
    "above_100H = list(weather_df.loc[weather_df['Humidity'] > 100].index)\n",
    "above_100H"
   ]
  },
  {
   "cell_type": "code",
   "execution_count": 51,
   "metadata": {},
   "outputs": [],
   "source": [
    "# Make a new DataFrame equal to the city data to drop all humidity outliers by index.\n",
    "# Passing \"inplace=False\" will make a copy of the city_data DataFrame, which we call \"clean_city_data\".\n",
    "clean_city_data = weather_df.loc[weather_df['Humidity'] <= 100]\n",
    "clean_city_data.to_csv(output_data_file, index_label=\"City_ID\")"
   ]
  },
  {
   "cell_type": "markdown",
   "metadata": {},
   "source": [
    "## Plotting the Data\n",
    "* Use proper labeling of the plots using plot titles (including date of analysis) and axes labels.\n",
    "* Save the plotted figures as .pngs."
   ]
  },
  {
   "cell_type": "markdown",
   "metadata": {},
   "source": [
    "## Latitude vs. Temperature Plot"
   ]
  },
  {
   "cell_type": "code",
   "execution_count": 12,
   "metadata": {
    "scrolled": true
   },
   "outputs": [
    {
     "data": {
      "image/png": "[encoded data removed]",
      "text/plain": [
       "<Figure size 432x288 with 1 Axes>"
      ]
     },
     "metadata": {
      "needs_background": "light"
     },
     "output_type": "display_data"
    }
   ],
   "source": [
    "today_date = date.today().strftime(\"%m/%d/%y\")\n",
    "weather_df.plot(kind='scatter', x='Lat', y='Max Temp', c='DarkBlue')\n",
    "plt.title(f'City Latitude Vs Max Temperature ({today_date})')\n",
    "plt.xlabel('Latitude')\n",
    "plt.ylabel('Max temperature (F)')\n",
    "plt.grid()\n",
    "plt.savefig(\"../Images/LatitudeVsTemperature.png\")"
   ]
  },
  {
   "cell_type": "markdown",
   "metadata": {},
   "source": [
    "## Latitude vs. Humidity Plot"
   ]
  },
  {
   "cell_type": "code",
   "execution_count": 13,
   "metadata": {},
   "outputs": [
    {
     "data": {
      "image/png": "[encoded data removed]",
      "text/plain": [
       "<Figure size 432x288 with 1 Axes>"
      ]
     },
     "metadata": {
      "needs_background": "light"
     },
     "output_type": "display_data"
    }
   ],
   "source": [
    "weather_df.plot(kind='scatter', x='Lat', y='Humidity', c='DarkBlue')\n",
    "plt.title(f'City Latitude Vs Humidity ({today_date})')\n",
    "plt.xlabel('Latitude')\n",
    "plt.ylabel('Humidity')\n",
    "plt.grid()\n",
    "plt.savefig(\"../Images/LatitudeVsHumidity.png\")"
   ]
  },
  {
   "cell_type": "markdown",
   "metadata": {},
   "source": [
    "## Latitude vs. Cloudiness Plot"
   ]
  },
  {
   "cell_type": "code",
   "execution_count": 14,
   "metadata": {},
   "outputs": [
    {
     "data": {
      "image/png": "[encoded data removed]",
      "text/plain": [
       "<Figure size 432x288 with 1 Axes>"
      ]
     },
     "metadata": {
      "needs_background": "light"
     },
     "output_type": "display_data"
    }
   ],
   "source": [
    "weather_df.plot(kind='scatter', x='Lat', y='Cloudiness', c='Red')\n",
    "plt.title(f'City Latitude Vs Cloudiness ({today_date})')\n",
    "plt.xlabel('Latitude')\n",
    "plt.ylabel('Cloudiness')\n",
    "plt.grid()\n",
    "plt.savefig(\"../Images/LatitudeVsCloudiness.png\")"
   ]
  },
  {
   "cell_type": "markdown",
   "metadata": {},
   "source": [
    "## Latitude vs. Wind Speed Plot"
   ]
  },
  {
   "cell_type": "code",
   "execution_count": 15,
   "metadata": {
    "scrolled": true
   },
   "outputs": [
    {
     "data": {
      "image/png": "[encoded data removed]",
      "text/plain": [
       "<Figure size 432x288 with 1 Axes>"
      ]
     },
     "metadata": {
      "needs_background": "light"
     },
     "output_type": "display_data"
    }
   ],
   "source": [
    "weather_df.plot(kind='scatter', x='Lat', y='Wind Speed', c='DarkBlue')\n",
    "plt.title(f'City Latitude Vs Wind Speed ({today_date})')\n",
    "plt.xlabel('Latitude')\n",
    "plt.ylabel('Wind Speed')\n",
    "plt.grid()\n",
    "plt.savefig(\"../Images/LatitudeVsWindSpeed.png\")"
   ]
  },
  {
   "cell_type": "markdown",
   "metadata": {},
   "source": [
    "## Linear Regression"
   ]
  },
  {
   "cell_type": "markdown",
   "metadata": {},
   "source": [
    "####  Northern Hemisphere - Max Temp vs. Latitude Linear Regression"
   ]
  },
  {
   "cell_type": "code",
   "execution_count": 27,
   "metadata": {},
   "outputs": [
    {
     "name": "stdout",
     "output_type": "stream",
     "text": [
      "The r-value is: -0.6497698670777248\n"
     ]
    },
    {
     "data": {
      "image/png": "[encoded data removed]",
      "text/plain": [
       "<Figure size 432x288 with 1 Axes>"
      ]
     },
     "metadata": {
      "needs_background": "light"
     },
     "output_type": "display_data"
    }
   ],
   "source": [
    "northern_hemi_df = weather_df.loc[weather_df['Lat'] > 0]\n",
    "y_values = northern_hemi_df['Max Temp']\n",
    "x_values = northern_hemi_df['Lat']\n",
    "\n",
    "\n",
    "(slope, intercept, rvalue, pvalue, stderr) = linregress(x_values, y_values)\n",
    "regress_values = x_values * slope + intercept\n",
    "line_eq = \"y = \" + str(round(slope,2)) + \"x + \" + str(round(intercept,2))\n",
    "print(f\"The r-value is: {rvalue}\")\n",
    "plt.scatter(x_values,y_values)\n",
    "plt.plot(x_values,regress_values,\"r-\")\n",
    "plt.annotate(line_eq,(5,30),fontsize=15,color=\"red\")\n",
    "plt.xlabel('Latitude')\n",
    "plt.ylabel('Max Temp')\n",
    "\n",
    "plt.show()"
   ]
  },
  {
   "cell_type": "markdown",
   "metadata": {},
   "source": [
    "####  Southern Hemisphere - Max Temp vs. Latitude Linear Regression"
   ]
  },
  {
   "cell_type": "code",
   "execution_count": 32,
   "metadata": {},
   "outputs": [
    {
     "name": "stdout",
     "output_type": "stream",
     "text": [
      "The r-value is: 0.7953341933394483\n"
     ]
    },
    {
     "data": {
      "image/png": "[encoded data removed]",
      "text/plain": [
       "<Figure size 432x288 with 1 Axes>"
      ]
     },
     "metadata": {
      "needs_background": "light"
     },
     "output_type": "display_data"
    }
   ],
   "source": [
    "southern_hemi_df = weather_df.loc[weather_df['Lat'] < 0]\n",
    "y_values = southern_hemi_df['Max Temp']\n",
    "x_values = southern_hemi_df['Lat']\n",
    "\n",
    "\n",
    "(slope, intercept, rvalue, pvalue, stderr) = linregress(x_values, y_values)\n",
    "regress_values = x_values * slope + intercept\n",
    "line_eq = \"y = \" + str(round(slope,2)) + \"x + \" + str(round(intercept,2))\n",
    "print(f\"The r-value is: {rvalue}\")\n",
    "plt.scatter(x_values,y_values)\n",
    "plt.plot(x_values,regress_values,\"r-\")\n",
    "plt.annotate(line_eq,(5,30),fontsize=15,color=\"red\")\n",
    "plt.xlabel('Latitude')\n",
    "plt.ylabel('Max Temp')\n",
    "\n",
    "plt.show()"
   ]
  },
  {
   "cell_type": "markdown",
   "metadata": {},
   "source": [
    "####  Northern Hemisphere - Humidity (%) vs. Latitude Linear Regression"
   ]
  },
  {
   "cell_type": "code",
   "execution_count": 30,
   "metadata": {},
   "outputs": [
    {
     "name": "stdout",
     "output_type": "stream",
     "text": [
      "The r-value is: -0.05955832328969902\n"
     ]
    },
    {
     "data": {
      "image/png": "[encoded data removed]",
      "text/plain": [
       "<Figure size 432x288 with 1 Axes>"
      ]
     },
     "metadata": {
      "needs_background": "light"
     },
     "output_type": "display_data"
    }
   ],
   "source": [
    "northern_hemi_df = weather_df.loc[weather_df['Lat'] > 0]\n",
    "y_values = northern_hemi_df['Humidity']\n",
    "x_values = northern_hemi_df['Lat']\n",
    "\n",
    "\n",
    "(slope, intercept, rvalue, pvalue, stderr) = linregress(x_values, y_values)\n",
    "regress_values = x_values * slope + intercept\n",
    "line_eq = \"y = \" + str(round(slope,2)) + \"x + \" + str(round(intercept,2))\n",
    "print(f\"The r-value is: {rvalue}\")\n",
    "plt.scatter(x_values,y_values)\n",
    "plt.plot(x_values,regress_values,\"r-\")\n",
    "plt.annotate(line_eq,(5,30),fontsize=15,color=\"red\")\n",
    "plt.xlabel('Latitude')\n",
    "plt.ylabel('Humidity')\n",
    "\n",
    "plt.show()"
   ]
  },
  {
   "cell_type": "markdown",
   "metadata": {},
   "source": [
    "####  Southern Hemisphere - Humidity (%) vs. Latitude Linear Regression"
   ]
  },
  {
   "cell_type": "code",
   "execution_count": 33,
   "metadata": {},
   "outputs": [
    {
     "name": "stdout",
     "output_type": "stream",
     "text": [
      "The r-value is: -0.10148095609429084\n"
     ]
    },
    {
     "data": {
      "image/png": "[encoded data removed]",
      "text/plain": [
       "<Figure size 432x288 with 1 Axes>"
      ]
     },
     "metadata": {
      "needs_background": "light"
     },
     "output_type": "display_data"
    }
   ],
   "source": [
    "southern_hemi_df = weather_df.loc[weather_df['Lat'] < 0]\n",
    "y_values = southern_hemi_df['Humidity']\n",
    "x_values = southern_hemi_df['Lat']\n",
    "\n",
    "\n",
    "(slope, intercept, rvalue, pvalue, stderr) = linregress(x_values, y_values)\n",
    "regress_values = x_values * slope + intercept\n",
    "line_eq = \"y = \" + str(round(slope,2)) + \"x + \" + str(round(intercept,2))\n",
    "print(f\"The r-value is: {rvalue}\")\n",
    "plt.scatter(x_values,y_values)\n",
    "plt.plot(x_values,regress_values,\"r-\")\n",
    "plt.annotate(line_eq,(5,30),fontsize=15,color=\"red\")\n",
    "plt.xlabel('Latitude')\n",
    "plt.ylabel('Humidity')\n",
    "\n",
    "plt.show()"
   ]
  },
  {
   "cell_type": "markdown",
   "metadata": {},
   "source": [
    "####  Northern Hemisphere - Cloudiness (%) vs. Latitude Linear Regression"
   ]
  },
  {
   "cell_type": "code",
   "execution_count": 34,
   "metadata": {},
   "outputs": [
    {
     "name": "stdout",
     "output_type": "stream",
     "text": [
      "The r-value is: -0.13713281402312005\n"
     ]
    },
    {
     "data": {
      "image/png": "[encoded data removed]",
      "text/plain": [
       "<Figure size 432x288 with 1 Axes>"
      ]
     },
     "metadata": {
      "needs_background": "light"
     },
     "output_type": "display_data"
    }
   ],
   "source": [
    "northern_hemi_df = weather_df.loc[weather_df['Lat'] > 0]\n",
    "y_values = northern_hemi_df['Cloudiness']\n",
    "x_values = northern_hemi_df['Lat']\n",
    "\n",
    "\n",
    "(slope, intercept, rvalue, pvalue, stderr) = linregress(x_values, y_values)\n",
    "regress_values = x_values * slope + intercept\n",
    "line_eq = \"y = \" + str(round(slope,2)) + \"x + \" + str(round(intercept,2))\n",
    "print(f\"The r-value is: {rvalue}\")\n",
    "plt.scatter(x_values,y_values)\n",
    "plt.plot(x_values,regress_values,\"r-\")\n",
    "plt.annotate(line_eq,(5,30),fontsize=15,color=\"red\")\n",
    "plt.xlabel('Latitude')\n",
    "plt.ylabel('Cloudiness (%)')\n",
    "\n",
    "plt.show()"
   ]
  },
  {
   "cell_type": "markdown",
   "metadata": {},
   "source": [
    "####  Southern Hemisphere - Cloudiness (%) vs. Latitude Linear Regression"
   ]
  },
  {
   "cell_type": "code",
   "execution_count": 36,
   "metadata": {},
   "outputs": [
    {
     "name": "stdout",
     "output_type": "stream",
     "text": [
      "The r-value is: -0.20757244320135088\n"
     ]
    },
    {
     "data": {
      "image/png": "[encoded data removed]",
      "text/plain": [
       "<Figure size 432x288 with 1 Axes>"
      ]
     },
     "metadata": {
      "needs_background": "light"
     },
     "output_type": "display_data"
    }
   ],
   "source": [
    "southern_hemi_df = weather_df.loc[weather_df['Lat'] < 0]\n",
    "y_values = southern_hemi_df['Cloudiness']\n",
    "x_values = southern_hemi_df['Lat']\n",
    "\n",
    "\n",
    "(slope, intercept, rvalue, pvalue, stderr) = linregress(x_values, y_values)\n",
    "regress_values = x_values * slope + intercept\n",
    "line_eq = \"y = \" + str(round(slope,2)) + \"x + \" + str(round(intercept,2))\n",
    "print(f\"The r-value is: {rvalue}\")\n",
    "plt.scatter(x_values,y_values)\n",
    "plt.plot(x_values,regress_values,\"r-\")\n",
    "plt.annotate(line_eq,(5,30),fontsize=15,color=\"red\")\n",
    "plt.xlabel('Latitude')\n",
    "plt.ylabel('Cloudiness (%)')\n",
    "\n",
    "plt.show()"
   ]
  },
  {
   "cell_type": "markdown",
   "metadata": {},
   "source": [
    "####  Northern Hemisphere - Wind Speed (mph) vs. Latitude Linear Regression"
   ]
  },
  {
   "cell_type": "code",
   "execution_count": 37,
   "metadata": {},
   "outputs": [
    {
     "name": "stdout",
     "output_type": "stream",
     "text": [
      "The r-value is: -0.02145937522872054\n"
     ]
    },
    {
     "data": {
      "image/png": "[encoded data removed]",
      "text/plain": [
       "<Figure size 432x288 with 1 Axes>"
      ]
     },
     "metadata": {
      "needs_background": "light"
     },
     "output_type": "display_data"
    }
   ],
   "source": [
    "northern_hemi_df = weather_df.loc[weather_df['Lat'] > 0]\n",
    "y_values = northern_hemi_df['Wind Speed']\n",
    "x_values = northern_hemi_df['Lat']\n",
    "\n",
    "\n",
    "(slope, intercept, rvalue, pvalue, stderr) = linregress(x_values, y_values)\n",
    "regress_values = x_values * slope + intercept\n",
    "line_eq = \"y = \" + str(round(slope,2)) + \"x + \" + str(round(intercept,2))\n",
    "print(f\"The r-value is: {rvalue}\")\n",
    "plt.scatter(x_values,y_values)\n",
    "plt.plot(x_values,regress_values,\"r-\")\n",
    "plt.annotate(line_eq,(5,30),fontsize=15,color=\"red\")\n",
    "plt.xlabel('Latitude')\n",
    "plt.ylabel('Wind Speed')\n",
    "\n",
    "plt.show()"
   ]
  },
  {
   "cell_type": "markdown",
   "metadata": {},
   "source": [
    "####  Southern Hemisphere - Wind Speed (mph) vs. Latitude Linear Regression"
   ]
  },
  {
   "cell_type": "code",
   "execution_count": 39,
   "metadata": {},
   "outputs": [
    {
     "name": "stdout",
     "output_type": "stream",
     "text": [
      "The r-value is: -0.17974729433440162\n"
     ]
    },
    {
     "data": {
      "image/png": "[encoded data removed]",
      "text/plain": [
       "<Figure size 432x288 with 1 Axes>"
      ]
     },
     "metadata": {
      "needs_background": "light"
     },
     "output_type": "display_data"
    }
   ],
   "source": [
    "southern_hemi_df = weather_df.loc[weather_df['Lat'] < 0]\n",
    "y_values = southern_hemi_df['Wind Speed']\n",
    "x_values = southern_hemi_df['Lat']\n",
    "\n",
    "\n",
    "(slope, intercept, rvalue, pvalue, stderr) = linregress(x_values, y_values)\n",
    "regress_values = x_values * slope + intercept\n",
    "line_eq = \"y = \" + str(round(slope,2)) + \"x + \" + str(round(intercept,2))\n",
    "print(f\"The r-value is: {rvalue}\")\n",
    "plt.scatter(x_values,y_values)\n",
    "plt.plot(x_values,regress_values,\"r-\")\n",
    "plt.annotate(line_eq,(5,30),fontsize=15,color=\"red\")\n",
    "plt.xlabel('Latitude')\n",
    "plt.ylabel('Wind Speed (mph)')\n",
    "\n",
    "plt.show()"
   ]
  },
  {
   "cell_type": "code",
   "execution_count": null,
   "metadata": {},
   "outputs": [],
   "source": []
  }
 ],
 "metadata": {
  "anaconda-cloud": {},
  "kernel_info": {
   "name": "python3"
  },
  "kernelspec": {
   "display_name": "Python 3",
   "language": "python",
   "name": "python3"
  },
  "language_info": {
   "codemirror_mode": {
    "name": "ipython",
    "version": 3
   },
   "file_extension": ".py",
   "mimetype": "text/x-python",
   "name": "python",
   "nbconvert_exporter": "python",
   "pygments_lexer": "ipython3",
   "version": "3.8.5"
  },
  "latex_envs": {
   "LaTeX_envs_menu_present": true,
   "autoclose": false,
   "autocomplete": true,
   "bibliofile": "biblio.bib",
   "cite_by": "apalike",
   "current_citInitial": 1,
   "eqLabelWithNumbers": true,
   "eqNumInitial": 1,
   "hotkeys": {
    "equation": "Ctrl-E",
    "itemize": "Ctrl-I"
   },
   "labels_anchors": false,
   "latex_user_defs": false,
   "report_style_numbering": false,
   "user_envs_cfg": false
  },
  "nteract": {
   "version": "0.12.3"
  }
 },
 "nbformat": 4,
 "nbformat_minor": 2
}
